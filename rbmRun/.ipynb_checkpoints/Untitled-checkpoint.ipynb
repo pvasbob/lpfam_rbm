{
 "cells": [
  {
   "cell_type": "code",
   "execution_count": 1,
   "id": "389b0794-f771-4d73-a3c9-a6c7cc8e16dd",
   "metadata": {},
   "outputs": [],
   "source": [
    "import pandas as pd"
   ]
  },
  {
   "cell_type": "code",
   "execution_count": 2,
   "id": "8d8900f3-1ee5-4bd1-977c-52079fb9d1c1",
   "metadata": {},
   "outputs": [],
   "source": [
    "import numpy as np"
   ]
  },
  {
   "cell_type": "code",
   "execution_count": 3,
   "id": "2f370c5a-aa44-40f1-acb1-81d9ac6f42a1",
   "metadata": {},
   "outputs": [
    {
     "name": "stderr",
     "output_type": "stream",
     "text": [
      "/home/emyia/.local/lib/python3.10/site-packages/matplotlib/projections/__init__.py:63: UserWarning: Unable to import Axes3D. This may be due to multiple versions of Matplotlib being installed (e.g. as a system package and as a pip package). As a result, the 3D projection is not available.\n",
      "  warnings.warn(\"Unable to import Axes3D. This may be due to multiple versions of \"\n"
     ]
    }
   ],
   "source": [
    "import matplotlib.pyplot as plt"
   ]
  },
  {
   "cell_type": "code",
   "execution_count": 4,
   "id": "97848528-3a42-4d9e-ac2b-ec50600b04eb",
   "metadata": {},
   "outputs": [],
   "source": [
    "df = pd.read_csv(\"emulator.dat\", header=None, skiprows=1, delim_whitespace=True)"
   ]
  },
  {
   "cell_type": "code",
   "execution_count": 5,
   "id": "b3952974-c087-4c94-8d4f-0809cee2cf94",
   "metadata": {},
   "outputs": [],
   "source": [
    "x = df[0]\n",
    "y = -df[3]/3.1415926"
   ]
  },
  {
   "cell_type": "code",
   "execution_count": 6,
   "id": "6ddd9d72-1363-4cf1-9fe9-167224109dd7",
   "metadata": {
    "scrolled": true
   },
   "outputs": [
    {
     "data": {
      "image/png": "[encoded data removed]",
      "text/plain": [
       "<Figure size 432x288 with 1 Axes>"
      ]
     },
     "metadata": {
      "needs_background": "light"
     },
     "output_type": "display_data"
    }
   ],
   "source": [
    "plt.plot(x,y)\n",
    "plt.show()"
   ]
  },
  {
   "cell_type": "code",
   "execution_count": 7,
   "id": "1ef42b7c-a64c-4716-a2f6-f8c36e88781c",
   "metadata": {},
   "outputs": [],
   "source": [
    "#plt.plot(x,np.log10(y))"
   ]
  },
  {
   "cell_type": "code",
   "execution_count": 9,
   "id": "512fdf28-d546-45e9-95bc-adb8b34b1f9b",
   "metadata": {},
   "outputs": [],
   "source": [
    "FAM_str = pd.read_csv(\"FAM_traininglp\", header = None, skiprows = 1, delim_whitespace = True)"
   ]
  },
  {
   "cell_type": "code",
   "execution_count": 10,
   "id": "b0360141-7757-427d-a9bc-055cfe13e948",
   "metadata": {},
   "outputs": [],
   "source": [
    "FAM_x  =FAM_str[0]\n",
    "FAM_y  =FAM_str[3]"
   ]
  },
  {
   "cell_type": "code",
   "execution_count": null,
   "id": "e0b33eea-acec-45b1-80d3-27581c086f83",
   "metadata": {},
   "outputs": [],
   "source": [
    "plt.plot(FAM_x, FAM_y)\n",
    "plt.show()"
   ]
  },
  {
   "cell_type": "code",
   "execution_count": 11,
   "id": "ef9a93b3-76ed-47d2-9d92-a551aa875f5e",
   "metadata": {},
   "outputs": [],
   "source": [
    "FAM_str_normallp = pd.read_csv(\"FAM_normallp\", header = None, skiprows = 1, delim_whitespace=True)"
   ]
  },
  {
   "cell_type": "code",
   "execution_count": null,
   "id": "8bd99d76-1f09-46c1-a0f0-5624c96c0991",
   "metadata": {},
   "outputs": [],
   "source": [
    "FAM_x_normallp = FAM_str_normallp[0]\n",
    "FAM_y_normallp = FAM_str_normallp[3]"
   ]
  },
  {
   "cell_type": "code",
   "execution_count": null,
   "id": "9ed27b17-8662-485f-a93f-6dbfaf644938",
   "metadata": {},
   "outputs": [],
   "source": [
    "plt.plot(FAM_x_normallp, FAM_y_normallp)"
   ]
  },
  {
   "cell_type": "code",
   "execution_count": null,
   "id": "04330aff-00c8-4dfe-8e9c-d1f39f746eb4",
   "metadata": {},
   "outputs": [],
   "source": []
  }
 ],
 "metadata": {
  "kernelspec": {
   "display_name": "Python 3 (ipykernel)",
   "language": "python",
   "name": "python3"
  },
  "language_info": {
   "codemirror_mode": {
    "name": "ipython",
    "version": 3
   },
   "file_extension": ".py",
   "mimetype": "text/x-python",
   "name": "python",
   "nbconvert_exporter": "python",
   "pygments_lexer": "ipython3",
   "version": "3.10.12"
  }
 },
 "nbformat": 4,
 "nbformat_minor": 5
}
